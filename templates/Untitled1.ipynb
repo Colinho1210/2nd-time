{
 "cells": [
  {
   "cell_type": "code",
   "execution_count": null,
   "id": "db935810-583f-4dd9-8260-1d811e630787",
   "metadata": {},
   "outputs": [],
   "source": [
    "from flask import Flask, render_template, request\n",
    "app = Flask (__name__)\n",
    "@app.route(\"/\",methods=[\"GET\",\"POST\"])\n",
    "def index():\n",
    "    return(render_template(\"index.html\"))\n",
    "\n",
    "@app.route(\"/main\",methods=[\"GET\",\"POST\"])\n",
    "def main():\n",
    "    r = request.form.get(\"q\")\n",
    "    return(render_template(\"main.html\",r=r))\n",
    "\n",
    "@app.route(\"/prediction\",methods=[\"GET\",\"POST\"])\n",
    "def prediction():\n",
    "    return(render_template(\"prediction.html\"))\n",
    "\n",
    "@app.route(\"/dbs_price\",methods=[\"GET\",\"POST\"])\n",
    "def dbs_price():\n",
    "    q = float(request.form.get(\"q\"))\n",
    "    return(render_template(\"dbs_price.html\",r=(q*-50.6)+90.2))\n",
    "\n",
    "if __name__ == \"__main__\":\n",
    "    app.run()"
   ]
  },
  {
   "cell_type": "code",
   "execution_count": null,
   "id": "a86a3f88-d4cc-46af-ab3b-95f7e8bdfaf4",
   "metadata": {},
   "outputs": [],
   "source": []
  }
 ],
 "metadata": {
  "kernelspec": {
   "display_name": "Python 3 (ipykernel)",
   "language": "python",
   "name": "python3"
  },
  "language_info": {
   "codemirror_mode": {
    "name": "ipython",
    "version": 3
   },
   "file_extension": ".py",
   "mimetype": "text/x-python",
   "name": "python",
   "nbconvert_exporter": "python",
   "pygments_lexer": "ipython3",
   "version": "3.11.7"
  }
 },
 "nbformat": 4,
 "nbformat_minor": 5
}
